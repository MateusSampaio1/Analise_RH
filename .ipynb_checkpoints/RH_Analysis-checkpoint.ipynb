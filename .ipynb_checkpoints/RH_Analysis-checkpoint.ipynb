{
 "cells": [
  {
   "cell_type": "code",
   "execution_count": 1,
   "id": "9943a597",
   "metadata": {},
   "outputs": [],
   "source": [
    "import pandas as pd\n",
    "import seaborn as sns\n",
    "import numpy as np\n",
    "import matplotlib.pyplot as plt\n",
    "%matplotlib inline"
   ]
  },
  {
   "cell_type": "code",
   "execution_count": 2,
   "id": "96d9d800",
   "metadata": {
    "scrolled": true
   },
   "outputs": [
    {
     "data": {
      "text/html": [
       "<div>\n",
       "<style scoped>\n",
       "    .dataframe tbody tr th:only-of-type {\n",
       "        vertical-align: middle;\n",
       "    }\n",
       "\n",
       "    .dataframe tbody tr th {\n",
       "        vertical-align: top;\n",
       "    }\n",
       "\n",
       "    .dataframe thead th {\n",
       "        text-align: right;\n",
       "    }\n",
       "</style>\n",
       "<table border=\"1\" class=\"dataframe\">\n",
       "  <thead>\n",
       "    <tr style=\"text-align: right;\">\n",
       "      <th></th>\n",
       "      <th>employee_id</th>\n",
       "      <th>department</th>\n",
       "      <th>region</th>\n",
       "      <th>education</th>\n",
       "      <th>gender</th>\n",
       "      <th>recruitment_channel</th>\n",
       "      <th>no_of_trainings</th>\n",
       "      <th>age</th>\n",
       "      <th>previous_year_rating</th>\n",
       "      <th>length_of_service</th>\n",
       "      <th>KPIs_met &gt;80%</th>\n",
       "      <th>awards_won?</th>\n",
       "      <th>avg_training_score</th>\n",
       "      <th>is_promoted</th>\n",
       "    </tr>\n",
       "  </thead>\n",
       "  <tbody>\n",
       "    <tr>\n",
       "      <th>0</th>\n",
       "      <td>65438</td>\n",
       "      <td>Sales &amp; Marketing</td>\n",
       "      <td>region_7</td>\n",
       "      <td>Master's &amp; above</td>\n",
       "      <td>f</td>\n",
       "      <td>sourcing</td>\n",
       "      <td>1</td>\n",
       "      <td>35</td>\n",
       "      <td>5.0</td>\n",
       "      <td>8</td>\n",
       "      <td>1</td>\n",
       "      <td>0</td>\n",
       "      <td>49</td>\n",
       "      <td>0</td>\n",
       "    </tr>\n",
       "    <tr>\n",
       "      <th>1</th>\n",
       "      <td>65141</td>\n",
       "      <td>Operations</td>\n",
       "      <td>region_22</td>\n",
       "      <td>Bachelor's</td>\n",
       "      <td>m</td>\n",
       "      <td>other</td>\n",
       "      <td>1</td>\n",
       "      <td>30</td>\n",
       "      <td>5.0</td>\n",
       "      <td>4</td>\n",
       "      <td>0</td>\n",
       "      <td>0</td>\n",
       "      <td>60</td>\n",
       "      <td>0</td>\n",
       "    </tr>\n",
       "    <tr>\n",
       "      <th>2</th>\n",
       "      <td>7513</td>\n",
       "      <td>Sales &amp; Marketing</td>\n",
       "      <td>region_19</td>\n",
       "      <td>Bachelor's</td>\n",
       "      <td>m</td>\n",
       "      <td>sourcing</td>\n",
       "      <td>1</td>\n",
       "      <td>34</td>\n",
       "      <td>3.0</td>\n",
       "      <td>7</td>\n",
       "      <td>0</td>\n",
       "      <td>0</td>\n",
       "      <td>50</td>\n",
       "      <td>0</td>\n",
       "    </tr>\n",
       "    <tr>\n",
       "      <th>3</th>\n",
       "      <td>2542</td>\n",
       "      <td>Sales &amp; Marketing</td>\n",
       "      <td>region_23</td>\n",
       "      <td>Bachelor's</td>\n",
       "      <td>m</td>\n",
       "      <td>other</td>\n",
       "      <td>2</td>\n",
       "      <td>39</td>\n",
       "      <td>1.0</td>\n",
       "      <td>10</td>\n",
       "      <td>0</td>\n",
       "      <td>0</td>\n",
       "      <td>50</td>\n",
       "      <td>0</td>\n",
       "    </tr>\n",
       "    <tr>\n",
       "      <th>4</th>\n",
       "      <td>48945</td>\n",
       "      <td>Technology</td>\n",
       "      <td>region_26</td>\n",
       "      <td>Bachelor's</td>\n",
       "      <td>m</td>\n",
       "      <td>other</td>\n",
       "      <td>1</td>\n",
       "      <td>45</td>\n",
       "      <td>3.0</td>\n",
       "      <td>2</td>\n",
       "      <td>0</td>\n",
       "      <td>0</td>\n",
       "      <td>73</td>\n",
       "      <td>0</td>\n",
       "    </tr>\n",
       "  </tbody>\n",
       "</table>\n",
       "</div>"
      ],
      "text/plain": [
       "   employee_id         department     region         education gender  \\\n",
       "0        65438  Sales & Marketing   region_7  Master's & above      f   \n",
       "1        65141         Operations  region_22        Bachelor's      m   \n",
       "2         7513  Sales & Marketing  region_19        Bachelor's      m   \n",
       "3         2542  Sales & Marketing  region_23        Bachelor's      m   \n",
       "4        48945         Technology  region_26        Bachelor's      m   \n",
       "\n",
       "  recruitment_channel  no_of_trainings  age  previous_year_rating  \\\n",
       "0            sourcing                1   35                   5.0   \n",
       "1               other                1   30                   5.0   \n",
       "2            sourcing                1   34                   3.0   \n",
       "3               other                2   39                   1.0   \n",
       "4               other                1   45                   3.0   \n",
       "\n",
       "   length_of_service  KPIs_met >80%  awards_won?  avg_training_score  \\\n",
       "0                  8              1            0                  49   \n",
       "1                  4              0            0                  60   \n",
       "2                  7              0            0                  50   \n",
       "3                 10              0            0                  50   \n",
       "4                  2              0            0                  73   \n",
       "\n",
       "   is_promoted  \n",
       "0            0  \n",
       "1            0  \n",
       "2            0  \n",
       "3            0  \n",
       "4            0  "
      ]
     },
     "execution_count": 2,
     "metadata": {},
     "output_type": "execute_result"
    }
   ],
   "source": [
    "dados = pd.read_csv('Dados\\Dataset_train.csv')\n",
    "dados.head()"
   ]
  },
  {
   "cell_type": "code",
   "execution_count": 3,
   "id": "04ca6505",
   "metadata": {},
   "outputs": [
    {
     "name": "stdout",
     "output_type": "stream",
     "text": [
      "Existem nesse dataset 54808 linhas e 14 colunas\n"
     ]
    }
   ],
   "source": [
    "print('Existem nesse dataset %d linhas e %d colunas' %dados.shape)"
   ]
  },
  {
   "cell_type": "code",
   "execution_count": 4,
   "id": "7b59ae3b",
   "metadata": {},
   "outputs": [
    {
     "name": "stdout",
     "output_type": "stream",
     "text": [
      "<class 'pandas.core.frame.DataFrame'>\n",
      "RangeIndex: 54808 entries, 0 to 54807\n",
      "Data columns (total 14 columns):\n",
      " #   Column                Non-Null Count  Dtype  \n",
      "---  ------                --------------  -----  \n",
      " 0   employee_id           54808 non-null  int64  \n",
      " 1   department            54808 non-null  object \n",
      " 2   region                54808 non-null  object \n",
      " 3   education             52399 non-null  object \n",
      " 4   gender                54808 non-null  object \n",
      " 5   recruitment_channel   54808 non-null  object \n",
      " 6   no_of_trainings       54808 non-null  int64  \n",
      " 7   age                   54808 non-null  int64  \n",
      " 8   previous_year_rating  50684 non-null  float64\n",
      " 9   length_of_service     54808 non-null  int64  \n",
      " 10  KPIs_met >80%         54808 non-null  int64  \n",
      " 11  awards_won?           54808 non-null  int64  \n",
      " 12  avg_training_score    54808 non-null  int64  \n",
      " 13  is_promoted           54808 non-null  int64  \n",
      "dtypes: float64(1), int64(8), object(5)\n",
      "memory usage: 5.9+ MB\n"
     ]
    }
   ],
   "source": [
    "# Verificando se existem dados nulos e o tipo de dado presente em cada coluna.\n",
    "dados.info()"
   ]
  },
  {
   "cell_type": "code",
   "execution_count": 5,
   "id": "8c958c12",
   "metadata": {},
   "outputs": [
    {
     "data": {
      "text/plain": [
       "employee_id                0\n",
       "department                 0\n",
       "region                     0\n",
       "education               2409\n",
       "gender                     0\n",
       "recruitment_channel        0\n",
       "no_of_trainings            0\n",
       "age                        0\n",
       "previous_year_rating    4124\n",
       "length_of_service          0\n",
       "KPIs_met >80%              0\n",
       "awards_won?                0\n",
       "avg_training_score         0\n",
       "is_promoted                0\n",
       "dtype: int64"
      ]
     },
     "execution_count": 5,
     "metadata": {},
     "output_type": "execute_result"
    }
   ],
   "source": [
    "# Realizando uma contagem dos dados nulos de cada coluna.\n",
    "dados.isnull().sum()"
   ]
  },
  {
   "cell_type": "markdown",
   "id": "ff24d269",
   "metadata": {},
   "source": [
    "Podemos identificar que existem dados nulos nas colunas **Education** e **Previous_year_rating**, logo, será necessário realizar um tratamento inicial nestes dados."
   ]
  },
  {
   "cell_type": "code",
   "execution_count": 6,
   "id": "256ffb56",
   "metadata": {},
   "outputs": [
    {
     "data": {
      "text/html": [
       "<div>\n",
       "<style scoped>\n",
       "    .dataframe tbody tr th:only-of-type {\n",
       "        vertical-align: middle;\n",
       "    }\n",
       "\n",
       "    .dataframe tbody tr th {\n",
       "        vertical-align: top;\n",
       "    }\n",
       "\n",
       "    .dataframe thead th {\n",
       "        text-align: right;\n",
       "    }\n",
       "</style>\n",
       "<table border=\"1\" class=\"dataframe\">\n",
       "  <thead>\n",
       "    <tr style=\"text-align: right;\">\n",
       "      <th></th>\n",
       "      <th>employee_id</th>\n",
       "      <th>department</th>\n",
       "      <th>region</th>\n",
       "      <th>education</th>\n",
       "      <th>gender</th>\n",
       "      <th>recruitment_channel</th>\n",
       "      <th>no_of_trainings</th>\n",
       "      <th>age</th>\n",
       "      <th>previous_year_rating</th>\n",
       "      <th>length_of_service</th>\n",
       "      <th>KPIs_met &gt;80%</th>\n",
       "      <th>awards_won?</th>\n",
       "      <th>avg_training_score</th>\n",
       "      <th>is_promoted</th>\n",
       "    </tr>\n",
       "  </thead>\n",
       "  <tbody>\n",
       "    <tr>\n",
       "      <th>0</th>\n",
       "      <td>65438</td>\n",
       "      <td>Sales &amp; Marketing</td>\n",
       "      <td>region_7</td>\n",
       "      <td>Master's &amp; above</td>\n",
       "      <td>f</td>\n",
       "      <td>sourcing</td>\n",
       "      <td>1</td>\n",
       "      <td>35</td>\n",
       "      <td>5.0</td>\n",
       "      <td>8</td>\n",
       "      <td>1</td>\n",
       "      <td>0</td>\n",
       "      <td>49</td>\n",
       "      <td>0</td>\n",
       "    </tr>\n",
       "    <tr>\n",
       "      <th>1</th>\n",
       "      <td>65141</td>\n",
       "      <td>Operations</td>\n",
       "      <td>region_22</td>\n",
       "      <td>Bachelor's</td>\n",
       "      <td>m</td>\n",
       "      <td>other</td>\n",
       "      <td>1</td>\n",
       "      <td>30</td>\n",
       "      <td>5.0</td>\n",
       "      <td>4</td>\n",
       "      <td>0</td>\n",
       "      <td>0</td>\n",
       "      <td>60</td>\n",
       "      <td>0</td>\n",
       "    </tr>\n",
       "    <tr>\n",
       "      <th>2</th>\n",
       "      <td>7513</td>\n",
       "      <td>Sales &amp; Marketing</td>\n",
       "      <td>region_19</td>\n",
       "      <td>Bachelor's</td>\n",
       "      <td>m</td>\n",
       "      <td>sourcing</td>\n",
       "      <td>1</td>\n",
       "      <td>34</td>\n",
       "      <td>3.0</td>\n",
       "      <td>7</td>\n",
       "      <td>0</td>\n",
       "      <td>0</td>\n",
       "      <td>50</td>\n",
       "      <td>0</td>\n",
       "    </tr>\n",
       "    <tr>\n",
       "      <th>3</th>\n",
       "      <td>2542</td>\n",
       "      <td>Sales &amp; Marketing</td>\n",
       "      <td>region_23</td>\n",
       "      <td>Bachelor's</td>\n",
       "      <td>m</td>\n",
       "      <td>other</td>\n",
       "      <td>2</td>\n",
       "      <td>39</td>\n",
       "      <td>1.0</td>\n",
       "      <td>10</td>\n",
       "      <td>0</td>\n",
       "      <td>0</td>\n",
       "      <td>50</td>\n",
       "      <td>0</td>\n",
       "    </tr>\n",
       "    <tr>\n",
       "      <th>4</th>\n",
       "      <td>48945</td>\n",
       "      <td>Technology</td>\n",
       "      <td>region_26</td>\n",
       "      <td>Bachelor's</td>\n",
       "      <td>m</td>\n",
       "      <td>other</td>\n",
       "      <td>1</td>\n",
       "      <td>45</td>\n",
       "      <td>3.0</td>\n",
       "      <td>2</td>\n",
       "      <td>0</td>\n",
       "      <td>0</td>\n",
       "      <td>73</td>\n",
       "      <td>0</td>\n",
       "    </tr>\n",
       "    <tr>\n",
       "      <th>...</th>\n",
       "      <td>...</td>\n",
       "      <td>...</td>\n",
       "      <td>...</td>\n",
       "      <td>...</td>\n",
       "      <td>...</td>\n",
       "      <td>...</td>\n",
       "      <td>...</td>\n",
       "      <td>...</td>\n",
       "      <td>...</td>\n",
       "      <td>...</td>\n",
       "      <td>...</td>\n",
       "      <td>...</td>\n",
       "      <td>...</td>\n",
       "      <td>...</td>\n",
       "    </tr>\n",
       "    <tr>\n",
       "      <th>48655</th>\n",
       "      <td>6915</td>\n",
       "      <td>Sales &amp; Marketing</td>\n",
       "      <td>region_14</td>\n",
       "      <td>Bachelor's</td>\n",
       "      <td>m</td>\n",
       "      <td>other</td>\n",
       "      <td>2</td>\n",
       "      <td>31</td>\n",
       "      <td>1.0</td>\n",
       "      <td>2</td>\n",
       "      <td>0</td>\n",
       "      <td>0</td>\n",
       "      <td>49</td>\n",
       "      <td>0</td>\n",
       "    </tr>\n",
       "    <tr>\n",
       "      <th>48656</th>\n",
       "      <td>3030</td>\n",
       "      <td>Technology</td>\n",
       "      <td>region_14</td>\n",
       "      <td>Bachelor's</td>\n",
       "      <td>m</td>\n",
       "      <td>sourcing</td>\n",
       "      <td>1</td>\n",
       "      <td>48</td>\n",
       "      <td>3.0</td>\n",
       "      <td>17</td>\n",
       "      <td>0</td>\n",
       "      <td>0</td>\n",
       "      <td>78</td>\n",
       "      <td>0</td>\n",
       "    </tr>\n",
       "    <tr>\n",
       "      <th>48657</th>\n",
       "      <td>74592</td>\n",
       "      <td>Operations</td>\n",
       "      <td>region_27</td>\n",
       "      <td>Master's &amp; above</td>\n",
       "      <td>f</td>\n",
       "      <td>other</td>\n",
       "      <td>1</td>\n",
       "      <td>37</td>\n",
       "      <td>2.0</td>\n",
       "      <td>6</td>\n",
       "      <td>0</td>\n",
       "      <td>0</td>\n",
       "      <td>56</td>\n",
       "      <td>0</td>\n",
       "    </tr>\n",
       "    <tr>\n",
       "      <th>48658</th>\n",
       "      <td>13918</td>\n",
       "      <td>Analytics</td>\n",
       "      <td>region_1</td>\n",
       "      <td>Bachelor's</td>\n",
       "      <td>m</td>\n",
       "      <td>other</td>\n",
       "      <td>1</td>\n",
       "      <td>27</td>\n",
       "      <td>5.0</td>\n",
       "      <td>3</td>\n",
       "      <td>1</td>\n",
       "      <td>0</td>\n",
       "      <td>79</td>\n",
       "      <td>0</td>\n",
       "    </tr>\n",
       "    <tr>\n",
       "      <th>48659</th>\n",
       "      <td>51526</td>\n",
       "      <td>HR</td>\n",
       "      <td>region_22</td>\n",
       "      <td>Bachelor's</td>\n",
       "      <td>m</td>\n",
       "      <td>other</td>\n",
       "      <td>1</td>\n",
       "      <td>27</td>\n",
       "      <td>1.0</td>\n",
       "      <td>5</td>\n",
       "      <td>0</td>\n",
       "      <td>0</td>\n",
       "      <td>49</td>\n",
       "      <td>0</td>\n",
       "    </tr>\n",
       "  </tbody>\n",
       "</table>\n",
       "<p>48660 rows × 14 columns</p>\n",
       "</div>"
      ],
      "text/plain": [
       "       employee_id         department     region         education gender  \\\n",
       "0            65438  Sales & Marketing   region_7  Master's & above      f   \n",
       "1            65141         Operations  region_22        Bachelor's      m   \n",
       "2             7513  Sales & Marketing  region_19        Bachelor's      m   \n",
       "3             2542  Sales & Marketing  region_23        Bachelor's      m   \n",
       "4            48945         Technology  region_26        Bachelor's      m   \n",
       "...            ...                ...        ...               ...    ...   \n",
       "48655         6915  Sales & Marketing  region_14        Bachelor's      m   \n",
       "48656         3030         Technology  region_14        Bachelor's      m   \n",
       "48657        74592         Operations  region_27  Master's & above      f   \n",
       "48658        13918          Analytics   region_1        Bachelor's      m   \n",
       "48659        51526                 HR  region_22        Bachelor's      m   \n",
       "\n",
       "      recruitment_channel  no_of_trainings  age  previous_year_rating  \\\n",
       "0                sourcing                1   35                   5.0   \n",
       "1                   other                1   30                   5.0   \n",
       "2                sourcing                1   34                   3.0   \n",
       "3                   other                2   39                   1.0   \n",
       "4                   other                1   45                   3.0   \n",
       "...                   ...              ...  ...                   ...   \n",
       "48655               other                2   31                   1.0   \n",
       "48656            sourcing                1   48                   3.0   \n",
       "48657               other                1   37                   2.0   \n",
       "48658               other                1   27                   5.0   \n",
       "48659               other                1   27                   1.0   \n",
       "\n",
       "       length_of_service  KPIs_met >80%  awards_won?  avg_training_score  \\\n",
       "0                      8              1            0                  49   \n",
       "1                      4              0            0                  60   \n",
       "2                      7              0            0                  50   \n",
       "3                     10              0            0                  50   \n",
       "4                      2              0            0                  73   \n",
       "...                  ...            ...          ...                 ...   \n",
       "48655                  2              0            0                  49   \n",
       "48656                 17              0            0                  78   \n",
       "48657                  6              0            0                  56   \n",
       "48658                  3              1            0                  79   \n",
       "48659                  5              0            0                  49   \n",
       "\n",
       "       is_promoted  \n",
       "0                0  \n",
       "1                0  \n",
       "2                0  \n",
       "3                0  \n",
       "4                0  \n",
       "...            ...  \n",
       "48655            0  \n",
       "48656            0  \n",
       "48657            0  \n",
       "48658            0  \n",
       "48659            0  \n",
       "\n",
       "[48660 rows x 14 columns]"
      ]
     },
     "execution_count": 6,
     "metadata": {},
     "output_type": "execute_result"
    }
   ],
   "source": [
    "# Removendo as linhas com dados faltantes\n",
    "dados = dados.dropna()\n",
    "\n",
    "#Resetando o index após a remoção das linhas \n",
    "dados.reset_index(inplace = True, drop = True)\n",
    "dados"
   ]
  },
  {
   "cell_type": "code",
   "execution_count": 7,
   "id": "54925785",
   "metadata": {},
   "outputs": [
    {
     "name": "stdout",
     "output_type": "stream",
     "text": [
      "<class 'pandas.core.frame.DataFrame'>\n",
      "RangeIndex: 48660 entries, 0 to 48659\n",
      "Data columns (total 14 columns):\n",
      " #   Column                Non-Null Count  Dtype  \n",
      "---  ------                --------------  -----  \n",
      " 0   employee_id           48660 non-null  int64  \n",
      " 1   department            48660 non-null  object \n",
      " 2   region                48660 non-null  object \n",
      " 3   education             48660 non-null  object \n",
      " 4   gender                48660 non-null  object \n",
      " 5   recruitment_channel   48660 non-null  object \n",
      " 6   no_of_trainings       48660 non-null  int64  \n",
      " 7   age                   48660 non-null  int64  \n",
      " 8   previous_year_rating  48660 non-null  float64\n",
      " 9   length_of_service     48660 non-null  int64  \n",
      " 10  KPIs_met >80%         48660 non-null  int64  \n",
      " 11  awards_won?           48660 non-null  int64  \n",
      " 12  avg_training_score    48660 non-null  int64  \n",
      " 13  is_promoted           48660 non-null  int64  \n",
      "dtypes: float64(1), int64(8), object(5)\n",
      "memory usage: 5.2+ MB\n"
     ]
    }
   ],
   "source": [
    "dados.info()"
   ]
  },
  {
   "cell_type": "markdown",
   "id": "0e44edc1",
   "metadata": {},
   "source": [
    "As linhas com dados faltantes foram removidas, irei verificar se existem dados vazios em alguma das colunas."
   ]
  },
  {
   "cell_type": "code",
   "execution_count": 8,
   "id": "19145a3a",
   "metadata": {},
   "outputs": [
    {
     "data": {
      "text/plain": [
       "array(['Sales & Marketing', 'Operations', 'Technology', 'Analytics',\n",
       "       'R&D', 'Procurement', 'Finance', 'HR', 'Legal'], dtype=object)"
      ]
     },
     "execution_count": 8,
     "metadata": {},
     "output_type": "execute_result"
    }
   ],
   "source": [
    "dados['department'].unique()"
   ]
  },
  {
   "cell_type": "code",
   "execution_count": 9,
   "id": "4606d608",
   "metadata": {},
   "outputs": [
    {
     "data": {
      "text/plain": [
       "array(['region_7', 'region_22', 'region_19', 'region_23', 'region_26',\n",
       "       'region_2', 'region_20', 'region_34', 'region_1', 'region_4',\n",
       "       'region_29', 'region_31', 'region_15', 'region_14', 'region_11',\n",
       "       'region_5', 'region_28', 'region_17', 'region_13', 'region_16',\n",
       "       'region_25', 'region_10', 'region_27', 'region_30', 'region_12',\n",
       "       'region_21', 'region_32', 'region_6', 'region_33', 'region_8',\n",
       "       'region_24', 'region_3', 'region_9', 'region_18'], dtype=object)"
      ]
     },
     "execution_count": 9,
     "metadata": {},
     "output_type": "execute_result"
    }
   ],
   "source": [
    "dados['region'].unique()"
   ]
  },
  {
   "cell_type": "code",
   "execution_count": 10,
   "id": "7f378f02",
   "metadata": {},
   "outputs": [
    {
     "data": {
      "text/plain": [
       "array([\"Master's & above\", \"Bachelor's\", 'Below Secondary'], dtype=object)"
      ]
     },
     "execution_count": 10,
     "metadata": {},
     "output_type": "execute_result"
    }
   ],
   "source": [
    "dados['education'].unique()"
   ]
  },
  {
   "cell_type": "code",
   "execution_count": 11,
   "id": "5794d577",
   "metadata": {},
   "outputs": [
    {
     "data": {
      "text/plain": [
       "array(['f', 'm'], dtype=object)"
      ]
     },
     "execution_count": 11,
     "metadata": {},
     "output_type": "execute_result"
    }
   ],
   "source": [
    "dados['gender'].unique()"
   ]
  },
  {
   "cell_type": "code",
   "execution_count": 12,
   "id": "2bdcafbd",
   "metadata": {},
   "outputs": [
    {
     "data": {
      "text/plain": [
       "array(['sourcing', 'other', 'referred'], dtype=object)"
      ]
     },
     "execution_count": 12,
     "metadata": {},
     "output_type": "execute_result"
    }
   ],
   "source": [
    "dados['recruitment_channel'].unique()"
   ]
  },
  {
   "cell_type": "code",
   "execution_count": 13,
   "id": "e7376228",
   "metadata": {},
   "outputs": [
    {
     "data": {
      "text/plain": [
       "array([ 1,  2,  3,  4,  7,  5,  6, 10,  8,  9], dtype=int64)"
      ]
     },
     "execution_count": 13,
     "metadata": {},
     "output_type": "execute_result"
    }
   ],
   "source": [
    "dados['no_of_trainings'].unique()"
   ]
  },
  {
   "cell_type": "code",
   "execution_count": 14,
   "id": "fd317700",
   "metadata": {},
   "outputs": [
    {
     "data": {
      "text/plain": [
       "array([35, 30, 34, 39, 45, 31, 33, 28, 32, 49, 37, 38, 27, 29, 26, 57, 40,\n",
       "       42, 23, 59, 44, 50, 56, 20, 25, 41, 47, 36, 46, 60, 43, 54, 24, 22,\n",
       "       58, 48, 55, 51, 52, 53, 21], dtype=int64)"
      ]
     },
     "execution_count": 14,
     "metadata": {},
     "output_type": "execute_result"
    }
   ],
   "source": [
    "dados['age'].unique()"
   ]
  },
  {
   "cell_type": "code",
   "execution_count": 15,
   "id": "ba48675a",
   "metadata": {},
   "outputs": [
    {
     "data": {
      "text/plain": [
       "array([5., 3., 1., 4., 2.])"
      ]
     },
     "execution_count": 15,
     "metadata": {},
     "output_type": "execute_result"
    }
   ],
   "source": [
    "dados['previous_year_rating'].unique()"
   ]
  },
  {
   "cell_type": "code",
   "execution_count": 16,
   "id": "9dee0023",
   "metadata": {},
   "outputs": [
    {
     "data": {
      "text/plain": [
       "array([ 8,  4,  7, 10,  2,  5,  6,  3, 16,  9, 26, 12, 11, 17, 14, 13, 19,\n",
       "       15, 23, 20, 18, 22, 25, 28,  1, 24, 31, 21, 29, 30, 34, 27, 33, 32,\n",
       "       37], dtype=int64)"
      ]
     },
     "execution_count": 16,
     "metadata": {},
     "output_type": "execute_result"
    }
   ],
   "source": [
    "dados['length_of_service'].unique()"
   ]
  },
  {
   "cell_type": "code",
   "execution_count": 17,
   "id": "15a7d475",
   "metadata": {},
   "outputs": [
    {
     "data": {
      "text/plain": [
       "array([1, 0], dtype=int64)"
      ]
     },
     "execution_count": 17,
     "metadata": {},
     "output_type": "execute_result"
    }
   ],
   "source": [
    "dados['KPIs_met >80%'].unique()"
   ]
  },
  {
   "cell_type": "code",
   "execution_count": 18,
   "id": "788609fb",
   "metadata": {},
   "outputs": [
    {
     "data": {
      "text/plain": [
       "array([0, 1], dtype=int64)"
      ]
     },
     "execution_count": 18,
     "metadata": {},
     "output_type": "execute_result"
    }
   ],
   "source": [
    "dados['awards_won?'].unique()"
   ]
  },
  {
   "cell_type": "code",
   "execution_count": 19,
   "id": "d4759c7c",
   "metadata": {},
   "outputs": [
    {
     "data": {
      "text/plain": [
       "array([49, 60, 50, 73, 85, 59, 63, 83, 54, 80, 84, 77, 51, 46, 75, 68, 79,\n",
       "       72, 61, 58, 87, 47, 57, 52, 88, 71, 48, 65, 62, 53, 78, 44, 91, 82,\n",
       "       69, 74, 86, 90, 92, 67, 89, 56, 76, 81, 70, 45, 55, 39, 94, 93, 64,\n",
       "       66, 95, 42, 96, 40, 99, 43, 97, 41, 98], dtype=int64)"
      ]
     },
     "execution_count": 19,
     "metadata": {},
     "output_type": "execute_result"
    }
   ],
   "source": [
    "dados['avg_training_score'].unique()"
   ]
  },
  {
   "cell_type": "code",
   "execution_count": 20,
   "id": "a465b278",
   "metadata": {},
   "outputs": [
    {
     "data": {
      "text/html": [
       "<div>\n",
       "<style scoped>\n",
       "    .dataframe tbody tr th:only-of-type {\n",
       "        vertical-align: middle;\n",
       "    }\n",
       "\n",
       "    .dataframe tbody tr th {\n",
       "        vertical-align: top;\n",
       "    }\n",
       "\n",
       "    .dataframe thead th {\n",
       "        text-align: right;\n",
       "    }\n",
       "</style>\n",
       "<table border=\"1\" class=\"dataframe\">\n",
       "  <thead>\n",
       "    <tr style=\"text-align: right;\">\n",
       "      <th></th>\n",
       "      <th>id_empregado</th>\n",
       "      <th>departamento</th>\n",
       "      <th>regiao</th>\n",
       "      <th>grau_instrucao</th>\n",
       "      <th>genero</th>\n",
       "      <th>canal_recrutamento</th>\n",
       "      <th>qtd_treinamentos</th>\n",
       "      <th>idade</th>\n",
       "      <th>previous_year_rating</th>\n",
       "      <th>tempo_de_servico</th>\n",
       "      <th>KPIs_atingidos &gt;80%</th>\n",
       "      <th>premiado?</th>\n",
       "      <th>pontuacao_media_treinamento</th>\n",
       "      <th>promovido</th>\n",
       "    </tr>\n",
       "  </thead>\n",
       "  <tbody>\n",
       "    <tr>\n",
       "      <th>0</th>\n",
       "      <td>65438</td>\n",
       "      <td>Sales &amp; Marketing</td>\n",
       "      <td>region_7</td>\n",
       "      <td>Master's &amp; above</td>\n",
       "      <td>f</td>\n",
       "      <td>sourcing</td>\n",
       "      <td>1</td>\n",
       "      <td>35</td>\n",
       "      <td>5.0</td>\n",
       "      <td>8</td>\n",
       "      <td>1</td>\n",
       "      <td>0</td>\n",
       "      <td>49</td>\n",
       "      <td>0</td>\n",
       "    </tr>\n",
       "    <tr>\n",
       "      <th>1</th>\n",
       "      <td>65141</td>\n",
       "      <td>Operations</td>\n",
       "      <td>region_22</td>\n",
       "      <td>Bachelor's</td>\n",
       "      <td>m</td>\n",
       "      <td>other</td>\n",
       "      <td>1</td>\n",
       "      <td>30</td>\n",
       "      <td>5.0</td>\n",
       "      <td>4</td>\n",
       "      <td>0</td>\n",
       "      <td>0</td>\n",
       "      <td>60</td>\n",
       "      <td>0</td>\n",
       "    </tr>\n",
       "    <tr>\n",
       "      <th>2</th>\n",
       "      <td>7513</td>\n",
       "      <td>Sales &amp; Marketing</td>\n",
       "      <td>region_19</td>\n",
       "      <td>Bachelor's</td>\n",
       "      <td>m</td>\n",
       "      <td>sourcing</td>\n",
       "      <td>1</td>\n",
       "      <td>34</td>\n",
       "      <td>3.0</td>\n",
       "      <td>7</td>\n",
       "      <td>0</td>\n",
       "      <td>0</td>\n",
       "      <td>50</td>\n",
       "      <td>0</td>\n",
       "    </tr>\n",
       "    <tr>\n",
       "      <th>3</th>\n",
       "      <td>2542</td>\n",
       "      <td>Sales &amp; Marketing</td>\n",
       "      <td>region_23</td>\n",
       "      <td>Bachelor's</td>\n",
       "      <td>m</td>\n",
       "      <td>other</td>\n",
       "      <td>2</td>\n",
       "      <td>39</td>\n",
       "      <td>1.0</td>\n",
       "      <td>10</td>\n",
       "      <td>0</td>\n",
       "      <td>0</td>\n",
       "      <td>50</td>\n",
       "      <td>0</td>\n",
       "    </tr>\n",
       "    <tr>\n",
       "      <th>4</th>\n",
       "      <td>48945</td>\n",
       "      <td>Technology</td>\n",
       "      <td>region_26</td>\n",
       "      <td>Bachelor's</td>\n",
       "      <td>m</td>\n",
       "      <td>other</td>\n",
       "      <td>1</td>\n",
       "      <td>45</td>\n",
       "      <td>3.0</td>\n",
       "      <td>2</td>\n",
       "      <td>0</td>\n",
       "      <td>0</td>\n",
       "      <td>73</td>\n",
       "      <td>0</td>\n",
       "    </tr>\n",
       "  </tbody>\n",
       "</table>\n",
       "</div>"
      ],
      "text/plain": [
       "   id_empregado       departamento     regiao    grau_instrucao genero  \\\n",
       "0         65438  Sales & Marketing   region_7  Master's & above      f   \n",
       "1         65141         Operations  region_22        Bachelor's      m   \n",
       "2          7513  Sales & Marketing  region_19        Bachelor's      m   \n",
       "3          2542  Sales & Marketing  region_23        Bachelor's      m   \n",
       "4         48945         Technology  region_26        Bachelor's      m   \n",
       "\n",
       "  canal_recrutamento  qtd_treinamentos  idade  previous_year_rating  \\\n",
       "0           sourcing                 1     35                   5.0   \n",
       "1              other                 1     30                   5.0   \n",
       "2           sourcing                 1     34                   3.0   \n",
       "3              other                 2     39                   1.0   \n",
       "4              other                 1     45                   3.0   \n",
       "\n",
       "   tempo_de_servico  KPIs_atingidos >80%  premiado?  \\\n",
       "0                 8                    1          0   \n",
       "1                 4                    0          0   \n",
       "2                 7                    0          0   \n",
       "3                10                    0          0   \n",
       "4                 2                    0          0   \n",
       "\n",
       "   pontuacao_media_treinamento  promovido  \n",
       "0                           49          0  \n",
       "1                           60          0  \n",
       "2                           50          0  \n",
       "3                           50          0  \n",
       "4                           73          0  "
      ]
     },
     "execution_count": 20,
     "metadata": {},
     "output_type": "execute_result"
    }
   ],
   "source": [
    "# Renomendo o nome das colunas\n",
    "dados.rename(columns = {'employee_id':'id_empregado', 'department':'departamento',\n",
    "                        'region':'regiao', 'education':'grau_instrucao',\n",
    "                        'gender':'genero', 'recruitment_channel':'canal_recrutamento',\n",
    "                        'no_of_trainings':'qtd_treinamentos', 'age':'idade', \n",
    "                        'length_of_service':'tempo_de_servico',\n",
    "                        'KPIs_met >80%':'KPIs_atingidos >80%', 'awards_won?':'premiado?',\n",
    "                        'avg_training_score': 'pontuacao_media_treinamento','is_promoted':'promovido'}, inplace = True)\n",
    "dados.head()"
   ]
  },
  {
   "cell_type": "code",
   "execution_count": 21,
   "id": "b7927754",
   "metadata": {
    "scrolled": false
   },
   "outputs": [
    {
     "data": {
      "text/html": [
       "<div>\n",
       "<style scoped>\n",
       "    .dataframe tbody tr th:only-of-type {\n",
       "        vertical-align: middle;\n",
       "    }\n",
       "\n",
       "    .dataframe tbody tr th {\n",
       "        vertical-align: top;\n",
       "    }\n",
       "\n",
       "    .dataframe thead th {\n",
       "        text-align: right;\n",
       "    }\n",
       "</style>\n",
       "<table border=\"1\" class=\"dataframe\">\n",
       "  <thead>\n",
       "    <tr style=\"text-align: right;\">\n",
       "      <th></th>\n",
       "      <th>id_empregado</th>\n",
       "      <th>departamento</th>\n",
       "      <th>regiao</th>\n",
       "      <th>grau_instrucao</th>\n",
       "      <th>genero</th>\n",
       "      <th>canal_recrutamento</th>\n",
       "      <th>qtd_treinamentos</th>\n",
       "      <th>idade</th>\n",
       "      <th>previous_year_rating</th>\n",
       "      <th>tempo_de_servico</th>\n",
       "      <th>KPIs_atingidos &gt;80%</th>\n",
       "      <th>premiado?</th>\n",
       "      <th>pontuacao_media_treinamento</th>\n",
       "      <th>promovido</th>\n",
       "    </tr>\n",
       "  </thead>\n",
       "  <tbody>\n",
       "    <tr>\n",
       "      <th>0</th>\n",
       "      <td>65438</td>\n",
       "      <td>Vendas_e_Marketing</td>\n",
       "      <td>region_7</td>\n",
       "      <td>Mestrado_ou_Superior</td>\n",
       "      <td>f</td>\n",
       "      <td>Anuncio</td>\n",
       "      <td>1</td>\n",
       "      <td>35</td>\n",
       "      <td>5.0</td>\n",
       "      <td>8</td>\n",
       "      <td>1</td>\n",
       "      <td>0</td>\n",
       "      <td>49</td>\n",
       "      <td>0</td>\n",
       "    </tr>\n",
       "    <tr>\n",
       "      <th>1</th>\n",
       "      <td>65141</td>\n",
       "      <td>Operacoes</td>\n",
       "      <td>region_22</td>\n",
       "      <td>Bacharel</td>\n",
       "      <td>m</td>\n",
       "      <td>Outro</td>\n",
       "      <td>1</td>\n",
       "      <td>30</td>\n",
       "      <td>5.0</td>\n",
       "      <td>4</td>\n",
       "      <td>0</td>\n",
       "      <td>0</td>\n",
       "      <td>60</td>\n",
       "      <td>0</td>\n",
       "    </tr>\n",
       "    <tr>\n",
       "      <th>2</th>\n",
       "      <td>7513</td>\n",
       "      <td>Vendas_e_Marketing</td>\n",
       "      <td>region_19</td>\n",
       "      <td>Bacharel</td>\n",
       "      <td>m</td>\n",
       "      <td>Anuncio</td>\n",
       "      <td>1</td>\n",
       "      <td>34</td>\n",
       "      <td>3.0</td>\n",
       "      <td>7</td>\n",
       "      <td>0</td>\n",
       "      <td>0</td>\n",
       "      <td>50</td>\n",
       "      <td>0</td>\n",
       "    </tr>\n",
       "    <tr>\n",
       "      <th>3</th>\n",
       "      <td>2542</td>\n",
       "      <td>Vendas_e_Marketing</td>\n",
       "      <td>region_23</td>\n",
       "      <td>Bacharel</td>\n",
       "      <td>m</td>\n",
       "      <td>Outro</td>\n",
       "      <td>2</td>\n",
       "      <td>39</td>\n",
       "      <td>1.0</td>\n",
       "      <td>10</td>\n",
       "      <td>0</td>\n",
       "      <td>0</td>\n",
       "      <td>50</td>\n",
       "      <td>0</td>\n",
       "    </tr>\n",
       "    <tr>\n",
       "      <th>4</th>\n",
       "      <td>48945</td>\n",
       "      <td>TI</td>\n",
       "      <td>region_26</td>\n",
       "      <td>Bacharel</td>\n",
       "      <td>m</td>\n",
       "      <td>Outro</td>\n",
       "      <td>1</td>\n",
       "      <td>45</td>\n",
       "      <td>3.0</td>\n",
       "      <td>2</td>\n",
       "      <td>0</td>\n",
       "      <td>0</td>\n",
       "      <td>73</td>\n",
       "      <td>0</td>\n",
       "    </tr>\n",
       "  </tbody>\n",
       "</table>\n",
       "</div>"
      ],
      "text/plain": [
       "   id_empregado        departamento     regiao        grau_instrucao genero  \\\n",
       "0         65438  Vendas_e_Marketing   region_7  Mestrado_ou_Superior      f   \n",
       "1         65141           Operacoes  region_22              Bacharel      m   \n",
       "2          7513  Vendas_e_Marketing  region_19              Bacharel      m   \n",
       "3          2542  Vendas_e_Marketing  region_23              Bacharel      m   \n",
       "4         48945                  TI  region_26              Bacharel      m   \n",
       "\n",
       "  canal_recrutamento  qtd_treinamentos  idade  previous_year_rating  \\\n",
       "0            Anuncio                 1     35                   5.0   \n",
       "1              Outro                 1     30                   5.0   \n",
       "2            Anuncio                 1     34                   3.0   \n",
       "3              Outro                 2     39                   1.0   \n",
       "4              Outro                 1     45                   3.0   \n",
       "\n",
       "   tempo_de_servico  KPIs_atingidos >80%  premiado?  \\\n",
       "0                 8                    1          0   \n",
       "1                 4                    0          0   \n",
       "2                 7                    0          0   \n",
       "3                10                    0          0   \n",
       "4                 2                    0          0   \n",
       "\n",
       "   pontuacao_media_treinamento  promovido  \n",
       "0                           49          0  \n",
       "1                           60          0  \n",
       "2                           50          0  \n",
       "3                           50          0  \n",
       "4                           73          0  "
      ]
     },
     "execution_count": 21,
     "metadata": {},
     "output_type": "execute_result"
    }
   ],
   "source": [
    "# Traduzindo as linhas\n",
    "dados['departamento'] = dados['departamento'].replace({'Sales & Marketing':'Vendas_e_Marketing',\n",
    "                                                       'Operations':'Operacoes',\n",
    "                                                       'Technology':'TI',\n",
    "                                                       'Analytics':'Analistas',\n",
    "                                                       'R&D':'P&D', \n",
    "                                                       'Procurement':'Compras',\n",
    "                                                       'Finance':'Financeiro', \n",
    "                                                       'HR':'RH', \n",
    "                                                       'Legal':'Jurídico'})\n",
    "\n",
    "\n",
    "dados['grau_instrucao'] = dados['grau_instrucao'].replace({\"Master's & above\":'Mestrado_ou_Superior', \n",
    "                                                           \"Bachelor's\":'Bacharel', \n",
    "                                                           'Below Secondary':'Abaixo_Ensino_medio'})\n",
    "\n",
    "dados['canal_recrutamento'] = dados['canal_recrutamento'].replace({'sourcing':'Anuncio',\n",
    "                                                                   'other':'Outro',\n",
    "                                                                   'referred':'Indicação'})\n",
    "\n",
    "dados.head()"
   ]
  },
  {
   "cell_type": "markdown",
   "id": "3601c76d",
   "metadata": {},
   "source": [
    "# Balanceamento e encodilng dos dados"
   ]
  },
  {
   "cell_type": "code",
   "execution_count": 22,
   "id": "1bc19247",
   "metadata": {},
   "outputs": [
    {
     "data": {
      "text/plain": [
       "<AxesSubplot:title={'center':'Distribuição da variável target'}>"
      ]
     },
     "execution_count": 22,
     "metadata": {},
     "output_type": "execute_result"
    },
    {
     "data": {
      "image/png": "[encoded data removed]",
      "text/plain": [
       "<Figure size 720x432 with 1 Axes>"
      ]
     },
     "metadata": {
      "needs_background": "light"
     },
     "output_type": "display_data"
    }
   ],
   "source": [
    "# Plotando a distribuição da variável target\n",
    "dados_count = dados['promovido'].value_counts()\n",
    "ax = dados_count.plot.bar()\n",
    "ax.figure.set_size_inches(10,6)\n",
    "ax.set_title('Distribuição da variável target')\n",
    "ax"
   ]
  },
  {
   "cell_type": "code",
   "execution_count": 23,
   "id": "7f1bf0e4",
   "metadata": {},
   "outputs": [
    {
     "data": {
      "text/plain": [
       "0    44428\n",
       "1     4232\n",
       "Name: promovido, dtype: int64"
      ]
     },
     "execution_count": 23,
     "metadata": {},
     "output_type": "execute_result"
    }
   ],
   "source": [
    "# Quantidade de registros para cada classe\n",
    "dados_count"
   ]
  },
  {
   "cell_type": "markdown",
   "id": "f4723b15",
   "metadata": {},
   "source": [
    "> A variável target **promovido** possui um grande desbalanceamento entre as suas classes. \n",
    "\n",
    "Como é possível identificar na imagem acima, existem cerca de 10 vezes mais registros de pessoas que não deveriam ser promovidas.\n",
    "\n",
    "Por isso, uma das medidas que precisam ser adotadas é o **balancemento** das variáveis, para que o modelo apresente um bom desempenho de classificação de ambas. O balanceamento pode ser realizado atravez de um **UnderSampling**, que iguala as variáveis removendo o \"excesso\" da variável que possui a maior quantidade de registros, ou de um **OverSampling**, que cria novos registros da variável minoritária até que ambas tenham a mesma quantidade de registros."
   ]
  },
  {
   "cell_type": "code",
   "execution_count": 24,
   "id": "384d1db8",
   "metadata": {},
   "outputs": [
    {
     "data": {
      "text/html": [
       "<div>\n",
       "<style scoped>\n",
       "    .dataframe tbody tr th:only-of-type {\n",
       "        vertical-align: middle;\n",
       "    }\n",
       "\n",
       "    .dataframe tbody tr th {\n",
       "        vertical-align: top;\n",
       "    }\n",
       "\n",
       "    .dataframe thead th {\n",
       "        text-align: right;\n",
       "    }\n",
       "</style>\n",
       "<table border=\"1\" class=\"dataframe\">\n",
       "  <thead>\n",
       "    <tr style=\"text-align: right;\">\n",
       "      <th></th>\n",
       "      <th>id_empregado</th>\n",
       "      <th>regiao</th>\n",
       "      <th>grau_instrucao</th>\n",
       "      <th>genero</th>\n",
       "      <th>canal_recrutamento</th>\n",
       "      <th>qtd_treinamentos</th>\n",
       "      <th>idade</th>\n",
       "      <th>previous_year_rating</th>\n",
       "      <th>tempo_de_servico</th>\n",
       "      <th>KPIs_atingidos &gt;80%</th>\n",
       "      <th>...</th>\n",
       "      <th>promovido</th>\n",
       "      <th>departamento_Analistas</th>\n",
       "      <th>departamento_Compras</th>\n",
       "      <th>departamento_Financeiro</th>\n",
       "      <th>departamento_Jurídico</th>\n",
       "      <th>departamento_Operacoes</th>\n",
       "      <th>departamento_P&amp;D</th>\n",
       "      <th>departamento_RH</th>\n",
       "      <th>departamento_TI</th>\n",
       "      <th>departamento_Vendas_e_Marketing</th>\n",
       "    </tr>\n",
       "  </thead>\n",
       "  <tbody>\n",
       "    <tr>\n",
       "      <th>0</th>\n",
       "      <td>65438</td>\n",
       "      <td>7</td>\n",
       "      <td>1</td>\n",
       "      <td>0</td>\n",
       "      <td>0</td>\n",
       "      <td>1</td>\n",
       "      <td>35</td>\n",
       "      <td>5.0</td>\n",
       "      <td>8</td>\n",
       "      <td>1</td>\n",
       "      <td>...</td>\n",
       "      <td>0</td>\n",
       "      <td>0</td>\n",
       "      <td>0</td>\n",
       "      <td>0</td>\n",
       "      <td>0</td>\n",
       "      <td>0</td>\n",
       "      <td>0</td>\n",
       "      <td>0</td>\n",
       "      <td>0</td>\n",
       "      <td>1</td>\n",
       "    </tr>\n",
       "    <tr>\n",
       "      <th>1</th>\n",
       "      <td>65141</td>\n",
       "      <td>22</td>\n",
       "      <td>0</td>\n",
       "      <td>1</td>\n",
       "      <td>2</td>\n",
       "      <td>1</td>\n",
       "      <td>30</td>\n",
       "      <td>5.0</td>\n",
       "      <td>4</td>\n",
       "      <td>0</td>\n",
       "      <td>...</td>\n",
       "      <td>0</td>\n",
       "      <td>0</td>\n",
       "      <td>0</td>\n",
       "      <td>0</td>\n",
       "      <td>0</td>\n",
       "      <td>1</td>\n",
       "      <td>0</td>\n",
       "      <td>0</td>\n",
       "      <td>0</td>\n",
       "      <td>0</td>\n",
       "    </tr>\n",
       "    <tr>\n",
       "      <th>2</th>\n",
       "      <td>7513</td>\n",
       "      <td>19</td>\n",
       "      <td>0</td>\n",
       "      <td>1</td>\n",
       "      <td>0</td>\n",
       "      <td>1</td>\n",
       "      <td>34</td>\n",
       "      <td>3.0</td>\n",
       "      <td>7</td>\n",
       "      <td>0</td>\n",
       "      <td>...</td>\n",
       "      <td>0</td>\n",
       "      <td>0</td>\n",
       "      <td>0</td>\n",
       "      <td>0</td>\n",
       "      <td>0</td>\n",
       "      <td>0</td>\n",
       "      <td>0</td>\n",
       "      <td>0</td>\n",
       "      <td>0</td>\n",
       "      <td>1</td>\n",
       "    </tr>\n",
       "    <tr>\n",
       "      <th>3</th>\n",
       "      <td>2542</td>\n",
       "      <td>23</td>\n",
       "      <td>0</td>\n",
       "      <td>1</td>\n",
       "      <td>2</td>\n",
       "      <td>2</td>\n",
       "      <td>39</td>\n",
       "      <td>1.0</td>\n",
       "      <td>10</td>\n",
       "      <td>0</td>\n",
       "      <td>...</td>\n",
       "      <td>0</td>\n",
       "      <td>0</td>\n",
       "      <td>0</td>\n",
       "      <td>0</td>\n",
       "      <td>0</td>\n",
       "      <td>0</td>\n",
       "      <td>0</td>\n",
       "      <td>0</td>\n",
       "      <td>0</td>\n",
       "      <td>1</td>\n",
       "    </tr>\n",
       "    <tr>\n",
       "      <th>4</th>\n",
       "      <td>48945</td>\n",
       "      <td>26</td>\n",
       "      <td>0</td>\n",
       "      <td>1</td>\n",
       "      <td>2</td>\n",
       "      <td>1</td>\n",
       "      <td>45</td>\n",
       "      <td>3.0</td>\n",
       "      <td>2</td>\n",
       "      <td>0</td>\n",
       "      <td>...</td>\n",
       "      <td>0</td>\n",
       "      <td>0</td>\n",
       "      <td>0</td>\n",
       "      <td>0</td>\n",
       "      <td>0</td>\n",
       "      <td>0</td>\n",
       "      <td>0</td>\n",
       "      <td>0</td>\n",
       "      <td>1</td>\n",
       "      <td>0</td>\n",
       "    </tr>\n",
       "  </tbody>\n",
       "</table>\n",
       "<p>5 rows × 22 columns</p>\n",
       "</div>"
      ],
      "text/plain": [
       "   id_empregado  regiao  grau_instrucao  genero  canal_recrutamento  \\\n",
       "0         65438       7               1       0                   0   \n",
       "1         65141      22               0       1                   2   \n",
       "2          7513      19               0       1                   0   \n",
       "3          2542      23               0       1                   2   \n",
       "4         48945      26               0       1                   2   \n",
       "\n",
       "   qtd_treinamentos  idade  previous_year_rating  tempo_de_servico  \\\n",
       "0                 1     35                   5.0                 8   \n",
       "1                 1     30                   5.0                 4   \n",
       "2                 1     34                   3.0                 7   \n",
       "3                 2     39                   1.0                10   \n",
       "4                 1     45                   3.0                 2   \n",
       "\n",
       "   KPIs_atingidos >80%  ...  promovido  departamento_Analistas  \\\n",
       "0                    1  ...          0                       0   \n",
       "1                    0  ...          0                       0   \n",
       "2                    0  ...          0                       0   \n",
       "3                    0  ...          0                       0   \n",
       "4                    0  ...          0                       0   \n",
       "\n",
       "   departamento_Compras  departamento_Financeiro  departamento_Jurídico  \\\n",
       "0                     0                        0                      0   \n",
       "1                     0                        0                      0   \n",
       "2                     0                        0                      0   \n",
       "3                     0                        0                      0   \n",
       "4                     0                        0                      0   \n",
       "\n",
       "   departamento_Operacoes  departamento_P&D  departamento_RH  departamento_TI  \\\n",
       "0                       0                 0                0                0   \n",
       "1                       1                 0                0                0   \n",
       "2                       0                 0                0                0   \n",
       "3                       0                 0                0                0   \n",
       "4                       0                 0                0                1   \n",
       "\n",
       "   departamento_Vendas_e_Marketing  \n",
       "0                                1  \n",
       "1                                0  \n",
       "2                                1  \n",
       "3                                1  \n",
       "4                                0  \n",
       "\n",
       "[5 rows x 22 columns]"
      ]
     },
     "execution_count": 24,
     "metadata": {},
     "output_type": "execute_result"
    }
   ],
   "source": [
    "#Iniciando o processo de encoldingo doa dados\n",
    "\n",
    "dados['genero'] = dados['genero'].replace({'f':0, 'm':1})\n",
    "dados['canal_recrutamento'] = dados['canal_recrutamento'].replace({'Anuncio':0,'Indicação':1, 'Outro':2})\n",
    "dados['grau_instrucao'] = dados['grau_instrucao'].replace({'Bacharel':0,'Mestrado_ou_Superior':1,'Abaixo_Ensino_medio':2})\n",
    "\n",
    "dados['regiao'] = dados['regiao'].replace({'region_7':7, 'region_22':22, 'region_19':19,\n",
    "                                           'region_23':23, 'region_26':26, 'region_2':2,\n",
    "                                           'region_20':20, 'region_34':34, 'region_1':1, \n",
    "                                           'region_4':4, 'region_29':29, 'region_31':31,\n",
    "                                           'region_15':15, 'region_14':14, 'region_11':11,\n",
    "                                           'region_5':5, 'region_28':28, 'region_17':17,\n",
    "                                           'region_13':13, 'region_16':16, 'region_25':25,\n",
    "                                           'region_10':10, 'region_27':27, 'region_30':30,\n",
    "                                           'region_12':12, 'region_21':21, 'region_32':32,\n",
    "                                           'region_6':6, 'region_33':33, 'region_8':8, \n",
    "                                           'region_24':24, 'region_3':3, 'region_9':9, \n",
    "                                           'region_18':18})\n",
    "\n",
    "# Aplicando o Onehotencolding para a variável departamento\n",
    "\n",
    "dados = pd.get_dummies(data = dados, columns = ['departamento'])\n",
    "dados.head()\n"
   ]
  },
  {
   "cell_type": "code",
   "execution_count": 25,
   "id": "7fcfa679",
   "metadata": {},
   "outputs": [],
   "source": [
    "#Removendo a coluna id_empregado\n",
    "dados = dados.drop(columns = 'id_empregado', axis = 1)"
   ]
  },
  {
   "cell_type": "code",
   "execution_count": 26,
   "id": "be53c4d7",
   "metadata": {},
   "outputs": [],
   "source": [
    "# Separando as variáveis entre X e y para aplicação do modelo\n",
    "X = dados.drop(columns = 'promovido', axis = 1)\n",
    "y = dados['promovido']"
   ]
  },
  {
   "cell_type": "markdown",
   "id": "b6ff154b",
   "metadata": {},
   "source": [
    "# Aplicando o Oversampling"
   ]
  },
  {
   "cell_type": "code",
   "execution_count": 27,
   "id": "d9677290",
   "metadata": {},
   "outputs": [
    {
     "data": {
      "text/plain": [
       "0    44428\n",
       "1    44428\n",
       "Name: promovido, dtype: int64"
      ]
     },
     "execution_count": 27,
     "metadata": {},
     "output_type": "execute_result"
    }
   ],
   "source": [
    "from imblearn.over_sampling import SMOTE\n",
    "\n",
    "# Instanciando uma variável com um objeto SMOTE\n",
    "smt = SMOTE()\n",
    "\n",
    "#Balanceando as variáveis\n",
    "X,y = smt.fit_resample(X,y)\n",
    "\n",
    "# Verificando a nova distribuição\n",
    "y.value_counts()"
   ]
  },
  {
   "cell_type": "code",
   "execution_count": 28,
   "id": "0133dee6",
   "metadata": {},
   "outputs": [],
   "source": [
    "from sklearn.model_selection import train_test_split\n",
    "# Definindo uma SEED\n",
    "SEED = 7\n",
    "np.random.seed(SEED)\n",
    "\n",
    "# Separadno os dados de treino e teste\n",
    "X_train, X_test, y_train, y_test = train_test_split(X, y, test_size = 0.3, random_state = SEED)\n"
   ]
  },
  {
   "cell_type": "code",
   "execution_count": 29,
   "id": "5ed93f99",
   "metadata": {},
   "outputs": [],
   "source": [
    "# Definindo a função que irá rodar os modelos, realizar a predição e devolver as métricas\n",
    "\n",
    "from sklearn import metrics\n",
    "\n",
    "def modelo(classificador):\n",
    "    SEED = 7\n",
    "    np.random.seed(SEED)\n",
    "    modelo = classificador\n",
    "    modelo.fit(X_train, y_train)\n",
    "    return modelo\n",
    "\n",
    "def predicao(modelo):\n",
    "    y_pred = modelo.predict(X_test)\n",
    "    return y_pred\n",
    "\n",
    "def metricas(y_test, y_pred):\n",
    "    acuracia = metrics.accuracy_score(y_test, y_pred)*100\n",
    "    precisao = metrics.precision_score(y_test, y_pred)*100\n",
    "    recall = metrics.recall_score(y_test, y_pred)*100\n",
    "    f1 = metrics.f1_score(y_test, y_pred)*100\n",
    "    \n",
    "    print('A acurácia do modelo foi de %.2f%%' %acuracia)\n",
    "    print('A precisão do modelo foi de %.2f%%'%precisao)\n",
    "    print('A taxa de recall do modelo foi de %.2f%%'% recall)\n",
    "    print('A taxa de balanceamento do modelo foi de %.2f%%'%f1)\n",
    "    \n",
    "    mc = metrics.confusion_matrix(y_test, y_pred)\n",
    "    disp = metrics.ConfusionMatrixDisplay(confusion_matrix = mc)\n",
    "    disp.plot()\n"
   ]
  },
  {
   "cell_type": "code",
   "execution_count": 30,
   "id": "65dd52b6",
   "metadata": {},
   "outputs": [
    {
     "name": "stdout",
     "output_type": "stream",
     "text": [
      "A acurácia do modelo foi de 65.17%\n",
      "A precisão do modelo foi de 59.33%\n",
      "A taxa de recall do modelo foi de 95.01%\n",
      "A taxa de balanceamento do modelo foi de 73.04%\n"
     ]
    },
    {
     "data": {
      "image/png": "[encoded data removed]",
      "text/plain": [
       "<Figure size 432x288 with 2 Axes>"
      ]
     },
     "metadata": {
      "needs_background": "light"
     },
     "output_type": "display_data"
    }
   ],
   "source": [
    "from sklearn.naive_bayes import GaussianNB\n",
    "\n",
    "gnb = modelo(GaussianNB())\n",
    "previsoes = predicao(gnb)\n",
    "metricas(y_test, previsoes)"
   ]
  },
  {
   "cell_type": "code",
   "execution_count": 31,
   "id": "f37ac5ff",
   "metadata": {},
   "outputs": [
    {
     "name": "stdout",
     "output_type": "stream",
     "text": [
      "A acurácia do modelo foi de 80.68%\n",
      "A precisão do modelo foi de 77.75%\n",
      "A taxa de recall do modelo foi de 85.60%\n",
      "A taxa de balanceamento do modelo foi de 81.49%\n"
     ]
    },
    {
     "data": {
      "image/png": "[encoded data removed]",
      "text/plain": [
       "<Figure size 432x288 with 2 Axes>"
      ]
     },
     "metadata": {
      "needs_background": "light"
     },
     "output_type": "display_data"
    }
   ],
   "source": [
    "from sklearn.ensemble import RandomForestClassifier\n",
    "\n",
    "rfc = modelo(RandomForestClassifier(max_depth = 5, random_state = SEED))\n",
    "previsoes = predicao(rfc)\n",
    "metricas(y_test, previsoes)"
   ]
  },
  {
   "cell_type": "code",
   "execution_count": null,
   "id": "32afecba",
   "metadata": {},
   "outputs": [],
   "source": []
  }
 ],
 "metadata": {
  "kernelspec": {
   "display_name": "Python 3 (ipykernel)",
   "language": "python",
   "name": "python3"
  },
  "language_info": {
   "codemirror_mode": {
    "name": "ipython",
    "version": 3
   },
   "file_extension": ".py",
   "mimetype": "text/x-python",
   "name": "python",
   "nbconvert_exporter": "python",
   "pygments_lexer": "ipython3",
   "version": "3.9.7"
  }
 },
 "nbformat": 4,
 "nbformat_minor": 5
}
